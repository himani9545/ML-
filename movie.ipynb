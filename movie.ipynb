{
 "cells": [
  {
   "cell_type": "code",
   "execution_count": 1,
   "metadata": {},
   "outputs": [
    {
     "name": "stdout",
     "output_type": "stream",
     "text": [
      "Note: you may need to restart the kernel to use updated packages.Defaulting to user installation because normal site-packages is not writeable\n",
      "Requirement already satisfied: pandas in c:\\users\\himan\\appdata\\local\\packages\\pythonsoftwarefoundation.python.3.12_qbz5n2kfra8p0\\localcache\\local-packages\\python312\\site-packages (2.2.2)\n",
      "Requirement already satisfied: numpy in c:\\users\\himan\\appdata\\local\\packages\\pythonsoftwarefoundation.python.3.12_qbz5n2kfra8p0\\localcache\\local-packages\\python312\\site-packages (1.26.4)\n",
      "Requirement already satisfied: scikit-learn in c:\\users\\himan\\appdata\\local\\packages\\pythonsoftwarefoundation.python.3.12_qbz5n2kfra8p0\\localcache\\local-packages\\python312\\site-packages (1.5.2)\n",
      "Requirement already satisfied: python-dateutil>=2.8.2 in c:\\users\\himan\\appdata\\local\\packages\\pythonsoftwarefoundation.python.3.12_qbz5n2kfra8p0\\localcache\\local-packages\\python312\\site-packages (from pandas) (2.9.0.post0)\n",
      "Requirement already satisfied: pytz>=2020.1 in c:\\users\\himan\\appdata\\local\\packages\\pythonsoftwarefoundation.python.3.12_qbz5n2kfra8p0\\localcache\\local-packages\\python312\\site-packages (from pandas) (2024.1)\n",
      "Requirement already satisfied: tzdata>=2022.7 in c:\\users\\himan\\appdata\\local\\packages\\pythonsoftwarefoundation.python.3.12_qbz5n2kfra8p0\\localcache\\local-packages\\python312\\site-packages (from pandas) (2024.1)\n",
      "Requirement already satisfied: scipy>=1.6.0 in c:\\users\\himan\\appdata\\local\\packages\\pythonsoftwarefoundation.python.3.12_qbz5n2kfra8p0\\localcache\\local-packages\\python312\\site-packages (from scikit-learn) (1.14.1)\n",
      "Requirement already satisfied: joblib>=1.2.0 in c:\\users\\himan\\appdata\\local\\packages\\pythonsoftwarefoundation.python.3.12_qbz5n2kfra8p0\\localcache\\local-packages\\python312\\site-packages (from scikit-learn) (1.4.2)\n",
      "Requirement already satisfied: threadpoolctl>=3.1.0 in c:\\users\\himan\\appdata\\local\\packages\\pythonsoftwarefoundation.python.3.12_qbz5n2kfra8p0\\localcache\\local-packages\\python312\\site-packages (from scikit-learn) (3.5.0)\n",
      "Requirement already satisfied: six>=1.5 in c:\\users\\himan\\appdata\\local\\packages\\pythonsoftwarefoundation.python.3.12_qbz5n2kfra8p0\\localcache\\local-packages\\python312\\site-packages (from python-dateutil>=2.8.2->pandas) (1.16.0)\n",
      "\n"
     ]
    },
    {
     "name": "stderr",
     "output_type": "stream",
     "text": [
      "\n",
      "[notice] A new release of pip is available: 24.2 -> 24.3.1\n",
      "[notice] To update, run: C:\\Users\\himan\\AppData\\Local\\Microsoft\\WindowsApps\\PythonSoftwareFoundation.Python.3.12_qbz5n2kfra8p0\\python.exe -m pip install --upgrade pip\n"
     ]
    }
   ],
   "source": [
    "pip install pandas numpy scikit-learn"
   ]
  },
  {
   "cell_type": "code",
   "execution_count": 5,
   "metadata": {},
   "outputs": [
    {
     "name": "stdout",
     "output_type": "stream",
     "text": [
      "   movieId                               title  \\\n",
      "0        1                    Toy Story (1995)   \n",
      "1        2                      Jumanji (1995)   \n",
      "2        3             Grumpier Old Men (1995)   \n",
      "3        4            Waiting to Exhale (1995)   \n",
      "4        5  Father of the Bride Part II (1995)   \n",
      "\n",
      "                                        genres  \n",
      "0  Adventure|Animation|Children|Comedy|Fantasy  \n",
      "1                   Adventure|Children|Fantasy  \n",
      "2                               Comedy|Romance  \n",
      "3                         Comedy|Drama|Romance  \n",
      "4                                       Comedy  \n",
      "   userId  movieId  rating   timestamp\n",
      "0       1      296     5.0  1147880044\n",
      "1       1      306     3.5  1147868817\n",
      "2       1      307     5.0  1147868828\n",
      "3       1      665     5.0  1147878820\n",
      "4       1      899     3.5  1147868510\n"
     ]
    }
   ],
   "source": [
    "import pandas as pd\n",
    "\n",
    "# Load datasets\n",
    "movies = pd.read_csv(r\"C:\\Users\\himan\\Downloads\\movies.csv\")  # Contains movieId, title, genres\n",
    "ratings = pd.read_csv(r\"C:\\Users\\himan\\Downloads\\ratings.csv\")  # Contains userId, movieId, rating\n",
    "\n",
    "# Display the first few rows\n",
    "print(movies.head())\n",
    "print(ratings.head())\n"
   ]
  },
  {
   "cell_type": "code",
   "execution_count": 7,
   "metadata": {},
   "outputs": [],
   "source": [
    "# Limit the dataset to the first 10,000 movies\n",
    "movies_subset = movies.head(10000)\n",
    "count_matrix = count_vectorizer.fit_transform(movies_subset['genres'])\n",
    "cosine_sim = cosine_similarity(count_matrix, count_matrix)\n"
   ]
  },
  {
   "cell_type": "code",
   "execution_count": 8,
   "metadata": {},
   "outputs": [],
   "source": [
    "from sklearn.metrics.pairwise import linear_kernel\n",
    "\n",
    "# Use linear_kernel instead of cosine_similarity\n",
    "cosine_sim = linear_kernel(count_matrix, count_matrix)\n"
   ]
  },
  {
   "cell_type": "code",
   "execution_count": 9,
   "metadata": {},
   "outputs": [
    {
     "name": "stdout",
     "output_type": "stream",
     "text": [
      "661                                   Space Jam (1996)\n",
      "2203                                       Antz (1998)\n",
      "2895                   Who Framed Roger Rabbit? (1988)\n",
      "3021                                Toy Story 2 (1999)\n",
      "3653    Adventures of Rocky and Bullwinkle, The (2000)\n",
      "Name: title, dtype: object\n"
     ]
    }
   ],
   "source": [
    "import pandas as pd\n",
    "from sklearn.feature_extraction.text import CountVectorizer\n",
    "from sklearn.metrics.pairwise import linear_kernel\n",
    "\n",
    "# Load a smaller subset\n",
    "movies_subset = movies.head(10000)\n",
    "\n",
    "# Apply CountVectorizer and linear_kernel\n",
    "count_vectorizer = CountVectorizer()\n",
    "count_matrix = count_vectorizer.fit_transform(movies_subset['genres'])\n",
    "cosine_sim = linear_kernel(count_matrix, count_matrix)\n",
    "\n",
    "# Proceed with recommendation function using smaller cosine_sim matrix\n",
    "indices = pd.Series(movies_subset.index, index=movies_subset['title']).drop_duplicates()\n",
    "\n",
    "def get_recommendations(title, cosine_sim=cosine_sim):\n",
    "    idx = indices[title]\n",
    "    sim_scores = list(enumerate(cosine_sim[idx]))\n",
    "    sim_scores = sorted(sim_scores, key=lambda x: x[1], reverse=True)\n",
    "    sim_scores = sim_scores[1:6]\n",
    "    movie_indices = [i[0] for i in sim_scores]\n",
    "    return movies_subset['title'].iloc[movie_indices]\n",
    "\n",
    "print(get_recommendations('Toy Story (1995)'))\n"
   ]
  },
  {
   "cell_type": "code",
   "execution_count": 11,
   "metadata": {},
   "outputs": [
    {
     "name": "stdout",
     "output_type": "stream",
     "text": [
      "Max userId: 162541\n",
      "Max movieId: 209171\n"
     ]
    }
   ],
   "source": [
    "print(\"Max userId:\", ratings['userId'].max())\n",
    "print(\"Max movieId:\", ratings['movieId'].max())\n"
   ]
  },
  {
   "cell_type": "code",
   "execution_count": 12,
   "metadata": {},
   "outputs": [],
   "source": [
    "ratings = ratings[(ratings['userId'] <= ratings['userId'].max()) & (ratings['movieId'] <= ratings['movieId'].max())]"
   ]
  },
  {
   "cell_type": "code",
   "execution_count": 13,
   "metadata": {},
   "outputs": [],
   "source": [
    "ratings = ratings[(ratings['userId'] <= ratings['userId'].max()) & (ratings['movieId'] <= ratings['movieId'].max())]\n"
   ]
  },
  {
   "cell_type": "code",
   "execution_count": 16,
   "metadata": {},
   "outputs": [],
   "source": [
    "# Select a subset of users and movies to reduce memory usage\n",
    "ratings_subset = ratings[(ratings['userId'] <= 1000) & (ratings['movieId'] <= 500)]\n",
    "user_movie_matrix = ratings_subset.pivot(index='userId', columns='movieId', values='rating').fillna(0)\n"
   ]
  },
  {
   "cell_type": "code",
   "execution_count": 17,
   "metadata": {},
   "outputs": [],
   "source": [
    "# Optimize data types to save memory\n",
    "ratings['userId'] = ratings['userId'].astype('int32')\n",
    "ratings['movieId'] = ratings['movieId'].astype('int32')\n",
    "ratings['rating'] = ratings['rating'].astype('float32')\n"
   ]
  },
  {
   "cell_type": "code",
   "execution_count": 18,
   "metadata": {},
   "outputs": [],
   "source": [
    "from scipy.sparse import csr_matrix\n",
    "\n",
    "# Convert the user_movie_matrix to a sparse matrix format\n",
    "user_movie_matrix_sparse = csr_matrix(user_movie_matrix.values)\n"
   ]
  },
  {
   "cell_type": "code",
   "execution_count": 20,
   "metadata": {},
   "outputs": [
    {
     "name": "stdout",
     "output_type": "stream",
     "text": [
      "(968, 12)\n"
     ]
    }
   ],
   "source": [
    "import pandas as pd\n",
    "from sklearn.decomposition import TruncatedSVD\n",
    "from scipy.sparse import csr_matrix\n",
    "\n",
    "# Optimize data types\n",
    "ratings['userId'] = ratings['userId'].astype('int32')\n",
    "ratings['movieId'] = ratings['movieId'].astype('int32')\n",
    "ratings['rating'] = ratings['rating'].astype('float32')\n",
    "\n",
    "# Use a smaller subset to reduce memory usage\n",
    "ratings_subset = ratings[(ratings['userId'] <= 1000) & (ratings['movieId'] <= 500)]\n",
    "user_movie_matrix = ratings_subset.pivot(index='userId', columns='movieId', values='rating').fillna(0)\n",
    "\n",
    "# Convert to sparse matrix\n",
    "user_movie_matrix_sparse = csr_matrix(user_movie_matrix.values)\n",
    "\n",
    "# Apply SVD on sparse matrix\n",
    "svd = TruncatedSVD(n_components=12)\n",
    "matrix = svd.fit_transform(user_movie_matrix_sparse)\n",
    "\n",
    "# Display the shape of the transformed matrix\n",
    "print(matrix.shape)\n"
   ]
  },
  {
   "cell_type": "code",
   "execution_count": 21,
   "metadata": {},
   "outputs": [
    {
     "name": "stdout",
     "output_type": "stream",
     "text": [
      "Recommended movie IDs: [296, 32, 235, 154, 111]\n"
     ]
    }
   ],
   "source": [
    "from sklearn.metrics.pairwise import cosine_similarity\n",
    "import numpy as np\n",
    "\n",
    "# Calculate cosine similarity between users\n",
    "user_similarity = cosine_similarity(matrix)\n",
    "\n",
    "# Convert similarity matrix to DataFrame for easy lookup\n",
    "user_similarity_df = pd.DataFrame(user_similarity, index=user_movie_matrix.index, columns=user_movie_matrix.index)\n",
    "\n",
    "def recommend_movies(user_id, num_recommendations=5):\n",
    "    # Get user similarity scores for the given user\n",
    "    similar_users = user_similarity_df[user_id].sort_values(ascending=False).iloc[1:num_recommendations+1]\n",
    "    \n",
    "    # Get the movies rated by similar users\n",
    "    similar_user_ids = similar_users.index\n",
    "    similar_user_ratings = user_movie_matrix.loc[similar_user_ids]\n",
    "    \n",
    "    # Average the ratings for each movie, weighted by user similarity scores\n",
    "    weighted_ratings = similar_user_ratings.T.dot(similar_users) / similar_users.sum()\n",
    "    \n",
    "    # Sort movies based on weighted ratings and recommend the top ones\n",
    "    recommended_movies = weighted_ratings.sort_values(ascending=False).head(num_recommendations)\n",
    "    \n",
    "    return recommended_movies.index.tolist()\n",
    "\n",
    "# Example: Recommend movies for user with ID 1\n",
    "recommended_movie_ids = recommend_movies(user_id=1, num_recommendations=5)\n",
    "print(\"Recommended movie IDs:\", recommended_movie_ids)\n"
   ]
  },
  {
   "cell_type": "code",
   "execution_count": 22,
   "metadata": {},
   "outputs": [
    {
     "name": "stdout",
     "output_type": "stream",
     "text": [
      "     movieId                                      title\n",
      "31        32  Twelve Monkeys (a.k.a. 12 Monkeys) (1995)\n",
      "109      111                         Taxi Driver (1976)\n",
      "152      154   Beauty of the Day (Belle de jour) (1967)\n",
      "232      235                             Ed Wood (1994)\n",
      "292      296                        Pulp Fiction (1994)\n"
     ]
    }
   ],
   "source": [
    "# Assuming 'movies' DataFrame has been loaded\n",
    "recommended_movies = movies[movies['movieId'].isin(recommended_movie_ids)]\n",
    "print(recommended_movies[['movieId', 'title']])\n"
   ]
  },
  {
   "cell_type": "code",
   "execution_count": 4,
   "metadata": {},
   "outputs": [
    {
     "name": "stdout",
     "output_type": "stream",
     "text": [
      "\n",
      "Movie Recommendation System\n",
      "1. Get Recommendations for a User\n",
      "2. Search for a Movie and Get Recommendations\n",
      "3. Exit\n",
      "\n",
      "Recommended Movies:\n",
      "     movieId                                      title\n",
      "167      169    Free Willy 2: The Adventure Home (1995)\n",
      "257      260  Star Wars: Episode IV - A New Hope (1977)\n",
      "314      318           Shawshank Redemption, The (1994)\n",
      "324      329              Star Trek: Generations (1994)\n",
      "357      362                    Jungle Book, The (1994)\n",
      "\n",
      "Movie Recommendation System\n",
      "1. Get Recommendations for a User\n",
      "2. Search for a Movie and Get Recommendations\n",
      "3. Exit\n",
      "Invalid choice. Please try again.\n",
      "\n",
      "Movie Recommendation System\n",
      "1. Get Recommendations for a User\n",
      "2. Search for a Movie and Get Recommendations\n",
      "3. Exit\n",
      "Invalid choice. Please try again.\n",
      "\n",
      "Movie Recommendation System\n",
      "1. Get Recommendations for a User\n",
      "2. Search for a Movie and Get Recommendations\n",
      "3. Exit\n",
      "Invalid choice. Please try again.\n",
      "\n",
      "Movie Recommendation System\n",
      "1. Get Recommendations for a User\n",
      "2. Search for a Movie and Get Recommendations\n",
      "3. Exit\n",
      "Invalid choice. Please try again.\n",
      "\n",
      "Movie Recommendation System\n",
      "1. Get Recommendations for a User\n",
      "2. Search for a Movie and Get Recommendations\n",
      "3. Exit\n",
      "Invalid choice. Please try again.\n",
      "\n",
      "Movie Recommendation System\n",
      "1. Get Recommendations for a User\n",
      "2. Search for a Movie and Get Recommendations\n",
      "3. Exit\n",
      "Invalid choice. Please try again.\n",
      "\n",
      "Movie Recommendation System\n",
      "1. Get Recommendations for a User\n",
      "2. Search for a Movie and Get Recommendations\n",
      "3. Exit\n",
      "Exiting the system.\n"
     ]
    }
   ],
   "source": [
    "import pandas as pd\n",
    "from sklearn.decomposition import TruncatedSVD\n",
    "from scipy.sparse import csr_matrix\n",
    "\n",
    "# Load datasets (replace \"path/to\" with the actual file path)\n",
    "movies = pd.read_csv(r\"C:\\Users\\himan\\Downloads\\movies.csv\")  # Contains movieId, title, genres\n",
    "ratings = pd.read_csv(r\"C:\\Users\\himan\\Downloads\\ratings.csv\")  \n",
    "\n",
    "# Optimize data types\n",
    "ratings['userId'] = ratings['userId'].astype('int32')\n",
    "ratings['movieId'] = ratings['movieId'].astype('int32')\n",
    "ratings['rating'] = ratings['rating'].astype('float32')\n",
    "\n",
    "# Use a smaller subset to reduce memory usage (adjust as necessary)\n",
    "ratings_subset = ratings[(ratings['userId'] <= 1000) & (ratings['movieId'] <= 500)]\n",
    "user_movie_matrix = ratings_subset.pivot(index='userId', columns='movieId', values='rating').fillna(0)\n",
    "\n",
    "# Convert to sparse matrix\n",
    "user_movie_matrix_sparse = csr_matrix(user_movie_matrix.values)\n",
    "\n",
    "# Apply SVD on sparse matrix\n",
    "svd = TruncatedSVD(n_components=12)\n",
    "matrix = svd.fit_transform(user_movie_matrix_sparse)\n",
    "\n",
    "# Function to recommend movies\n",
    "from sklearn.metrics.pairwise import cosine_similarity\n",
    "def recommend_movies(user_id, num_recommendations=5):\n",
    "    user_similarity = cosine_similarity(matrix)\n",
    "    user_similarity_df = pd.DataFrame(user_similarity, index=user_movie_matrix.index, columns=user_movie_matrix.index)\n",
    "    similar_users = user_similarity_df[user_id].sort_values(ascending=False).iloc[1:num_recommendations+1]\n",
    "    similar_user_ids = similar_users.index\n",
    "    similar_user_ratings = user_movie_matrix.loc[similar_user_ids]\n",
    "    weighted_ratings = similar_user_ratings.T.dot(similar_users) / similar_users.sum()\n",
    "    recommended_movies = weighted_ratings.sort_values(ascending=False).head(num_recommendations)\n",
    "    return recommended_movies.index.tolist()\n",
    "\n",
    "# CLI for Recommendations\n",
    "def user_menu():\n",
    "    while True:\n",
    "        print(\"\\nMovie Recommendation System\")\n",
    "        print(\"1. Get Recommendations for a User\")\n",
    "        print(\"2. Search for a Movie and Get Recommendations\")\n",
    "        print(\"3. Exit\")\n",
    "        choice = input(\"Enter your choice (1/2/3): \")\n",
    "\n",
    "        if choice == '1':\n",
    "            try:\n",
    "                user_id = int(input(\"Enter user ID: \"))\n",
    "                recommended_movie_ids = recommend_movies(user_id=user_id, num_recommendations=5)\n",
    "                recommended_movies = movies[movies['movieId'].isin(recommended_movie_ids)]\n",
    "                print(\"\\nRecommended Movies:\")\n",
    "                print(recommended_movies[['movieId', 'title']])\n",
    "            except KeyError:\n",
    "                print(\"User ID not found. Please try again.\")\n",
    "\n",
    "        elif choice == '2':\n",
    "            search_title = input(\"Enter a movie title to find similar recommendations: \").lower()\n",
    "            movie_matches = movies[movies['title'].str.lower().str.contains(search_title, regex=False)]\n",
    "\n",
    "            if movie_matches.empty:\n",
    "                print(\"No movies found with that title.\")\n",
    "            else:\n",
    "                print(\"Movies found:\")\n",
    "                for idx, row in movie_matches.iterrows():\n",
    "                    print(f\"{row['movieId']}: {row['title']}\")\n",
    "                try:\n",
    "                    selected_movie_id = int(input(\"Enter the movie ID from the list above: \"))\n",
    "                    similar_movies = recommend_movies(selected_movie_id, num_recommendations=5)\n",
    "                    print(\"\\nSimilar Movies:\")\n",
    "                    print(similar_movies[['movieId', 'title']])\n",
    "                except (ValueError, KeyError):\n",
    "                    print(\"Invalid movie ID. Please try again.\")\n",
    "\n",
    "        elif choice == '3':\n",
    "            print(\"Exiting the system.\")\n",
    "            break\n",
    "        else:\n",
    "            print(\"Invalid choice. Please try again.\")\n",
    "\n",
    "# Run the CLI\n",
    "user_menu()\n"
   ]
  },
  {
   "cell_type": "code",
   "execution_count": null,
   "metadata": {},
   "outputs": [],
   "source": []
  }
 ],
 "metadata": {
  "kernelspec": {
   "display_name": "Python 3",
   "language": "python",
   "name": "python3"
  },
  "language_info": {
   "codemirror_mode": {
    "name": "ipython",
    "version": 3
   },
   "file_extension": ".py",
   "mimetype": "text/x-python",
   "name": "python",
   "nbconvert_exporter": "python",
   "pygments_lexer": "ipython3",
   "version": "3.12.7"
  }
 },
 "nbformat": 4,
 "nbformat_minor": 2
}
